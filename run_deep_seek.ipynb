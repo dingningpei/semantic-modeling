{
 "cells": [
  {
   "cell_type": "code",
   "execution_count": null,
   "metadata": {
    "colab": {
     "base_uri": "https://localhost:8080/"
    },
    "id": "abkqCl-r4LiR",
    "outputId": "f328f3c3-f54a-47cf-8059-cdea57c0e325"
   },
   "outputs": [
    {
     "name": "stdout",
     "output_type": "stream",
     "text": [
      "Collecting OpenAI\n",
      "  Downloading openai-1.51.2-py3-none-any.whl.metadata (24 kB)\n",
      "Requirement already satisfied: anyio<5,>=3.5.0 in /usr/local/lib/python3.10/dist-packages (from OpenAI) (3.7.1)\n",
      "Requirement already satisfied: distro<2,>=1.7.0 in /usr/lib/python3/dist-packages (from OpenAI) (1.7.0)\n",
      "Collecting httpx<1,>=0.23.0 (from OpenAI)\n",
      "  Downloading httpx-0.27.2-py3-none-any.whl.metadata (7.1 kB)\n",
      "Collecting jiter<1,>=0.4.0 (from OpenAI)\n",
      "  Downloading jiter-0.6.1-cp310-cp310-manylinux_2_17_x86_64.manylinux2014_x86_64.whl.metadata (5.2 kB)\n",
      "Requirement already satisfied: pydantic<3,>=1.9.0 in /usr/local/lib/python3.10/dist-packages (from OpenAI) (2.9.2)\n",
      "Requirement already satisfied: sniffio in /usr/local/lib/python3.10/dist-packages (from OpenAI) (1.3.1)\n",
      "Requirement already satisfied: tqdm>4 in /usr/local/lib/python3.10/dist-packages (from OpenAI) (4.66.5)\n",
      "Requirement already satisfied: typing-extensions<5,>=4.11 in /usr/local/lib/python3.10/dist-packages (from OpenAI) (4.12.2)\n",
      "Requirement already satisfied: idna>=2.8 in /usr/local/lib/python3.10/dist-packages (from anyio<5,>=3.5.0->OpenAI) (3.10)\n",
      "Requirement already satisfied: exceptiongroup in /usr/local/lib/python3.10/dist-packages (from anyio<5,>=3.5.0->OpenAI) (1.2.2)\n",
      "Requirement already satisfied: certifi in /usr/local/lib/python3.10/dist-packages (from httpx<1,>=0.23.0->OpenAI) (2024.8.30)\n",
      "Collecting httpcore==1.* (from httpx<1,>=0.23.0->OpenAI)\n",
      "  Downloading httpcore-1.0.6-py3-none-any.whl.metadata (21 kB)\n",
      "Collecting h11<0.15,>=0.13 (from httpcore==1.*->httpx<1,>=0.23.0->OpenAI)\n",
      "  Downloading h11-0.14.0-py3-none-any.whl.metadata (8.2 kB)\n",
      "Requirement already satisfied: annotated-types>=0.6.0 in /usr/local/lib/python3.10/dist-packages (from pydantic<3,>=1.9.0->OpenAI) (0.7.0)\n",
      "Requirement already satisfied: pydantic-core==2.23.4 in /usr/local/lib/python3.10/dist-packages (from pydantic<3,>=1.9.0->OpenAI) (2.23.4)\n",
      "Downloading openai-1.51.2-py3-none-any.whl (383 kB)\n",
      "\u001b[2K   \u001b[90m━━━━━━━━━━━━━━━━━━━━━━━━━━━━━━━━━━━━━━━━\u001b[0m \u001b[32m383.7/383.7 kB\u001b[0m \u001b[31m7.9 MB/s\u001b[0m eta \u001b[36m0:00:00\u001b[0m\n",
      "\u001b[?25hDownloading httpx-0.27.2-py3-none-any.whl (76 kB)\n",
      "\u001b[2K   \u001b[90m━━━━━━━━━━━━━━━━━━━━━━━━━━━━━━━━━━━━━━━━\u001b[0m \u001b[32m76.4/76.4 kB\u001b[0m \u001b[31m4.5 MB/s\u001b[0m eta \u001b[36m0:00:00\u001b[0m\n",
      "\u001b[?25hDownloading httpcore-1.0.6-py3-none-any.whl (78 kB)\n",
      "\u001b[2K   \u001b[90m━━━━━━━━━━━━━━━━━━━━━━━━━━━━━━━━━━━━━━━━\u001b[0m \u001b[32m78.0/78.0 kB\u001b[0m \u001b[31m4.1 MB/s\u001b[0m eta \u001b[36m0:00:00\u001b[0m\n",
      "\u001b[?25hDownloading jiter-0.6.1-cp310-cp310-manylinux_2_17_x86_64.manylinux2014_x86_64.whl (325 kB)\n",
      "\u001b[2K   \u001b[90m━━━━━━━━━━━━━━━━━━━━━━━━━━━━━━━━━━━━━━━━\u001b[0m \u001b[32m325.2/325.2 kB\u001b[0m \u001b[31m17.0 MB/s\u001b[0m eta \u001b[36m0:00:00\u001b[0m\n",
      "\u001b[?25hDownloading h11-0.14.0-py3-none-any.whl (58 kB)\n",
      "\u001b[2K   \u001b[90m━━━━━━━━━━━━━━━━━━━━━━━━━━━━━━━━━━━━━━━━\u001b[0m \u001b[32m58.3/58.3 kB\u001b[0m \u001b[31m4.0 MB/s\u001b[0m eta \u001b[36m0:00:00\u001b[0m\n",
      "\u001b[?25hInstalling collected packages: jiter, h11, httpcore, httpx, OpenAI\n",
      "Successfully installed OpenAI-1.51.2 h11-0.14.0 httpcore-1.0.6 httpx-0.27.2 jiter-0.6.1\n"
     ]
    }
   ],
   "source": [
    "!pip install OpenAI\n"
   ]
  },
  {
   "cell_type": "code",
   "execution_count": null,
   "metadata": {
    "colab": {
     "base_uri": "https://localhost:8080/"
    },
    "id": "v-RMRU-74fnv",
    "outputId": "4190dc09-5720-45e0-a4b5-68f101bd8b5c"
   },
   "outputs": [
    {
     "name": "stdout",
     "output_type": "stream",
     "text": [
      "Loading data from [0, 1, 2, 3, 4, 5, 6, 7, 8, 9, 10, 11, 12, 13] files\n",
      "Loading data from /content/drive/MyDrive/Prompt_Semantic/Data/edm-20240926/tables_sources_json/s25-s-san-francisco-moma.json and /content/drive/MyDrive/Prompt_Semantic/Data/edm-20240926/models_triples_json/s25-s-san-francisco-moma-model.json\n",
      "Loading data from /content/drive/MyDrive/Prompt_Semantic/Data/edm-20240926/tables_sources_json/s16-s-hammer.json and /content/drive/MyDrive/Prompt_Semantic/Data/edm-20240926/models_triples_json/s16-s-hammer-model.json\n",
      "Loading data from /content/drive/MyDrive/Prompt_Semantic/Data/edm-20240926/tables_sources_json/s07-s-13.json and /content/drive/MyDrive/Prompt_Semantic/Data/edm-20240926/models_triples_json/s07-s-13-model.json\n",
      "Loading data from /content/drive/MyDrive/Prompt_Semantic/Data/edm-20240926/tables_sources_json/s09-s-18-artists.json and /content/drive/MyDrive/Prompt_Semantic/Data/edm-20240926/models_triples_json/s09-s-18-artists-model.json\n",
      "Loading data from /content/drive/MyDrive/Prompt_Semantic/Data/edm-20240926/tables_sources_json/s12-s-19-artworks.json and /content/drive/MyDrive/Prompt_Semantic/Data/edm-20240926/models_triples_json/s12-s-19-artworks-model.json\n",
      "Loading data from /content/drive/MyDrive/Prompt_Semantic/Data/edm-20240926/tables_sources_json/s08-s-17-edited.json and /content/drive/MyDrive/Prompt_Semantic/Data/edm-20240926/models_triples_json/s08-s-17-edited-model.json\n",
      "Loading data from /content/drive/MyDrive/Prompt_Semantic/Data/edm-20240926/tables_sources_json/s05-met.json and /content/drive/MyDrive/Prompt_Semantic/Data/edm-20240926/models_triples_json/s05-met-model.json\n",
      "Loading data from /content/drive/MyDrive/Prompt_Semantic/Data/edm-20240926/tables_sources_json/s02-dma.json and /content/drive/MyDrive/Prompt_Semantic/Data/edm-20240926/models_triples_json/s02-dma-model.json\n",
      "Loading data from /content/drive/MyDrive/Prompt_Semantic/Data/edm-20240926/tables_sources_json/s06-npg.json and /content/drive/MyDrive/Prompt_Semantic/Data/edm-20240926/models_triples_json/s06-npg-model.json\n",
      "Loading data from /content/drive/MyDrive/Prompt_Semantic/Data/edm-20240926/tables_sources_json/s14-s-california-african-american.json and /content/drive/MyDrive/Prompt_Semantic/Data/edm-20240926/models_triples_json/s14-s-california-african-american-model.json\n",
      "Loading data from /content/drive/MyDrive/Prompt_Semantic/Data/edm-20240926/tables_sources_json/s01-cb.json and /content/drive/MyDrive/Prompt_Semantic/Data/edm-20240926/models_triples_json/s01-cb-model.json\n",
      "Loading data from /content/drive/MyDrive/Prompt_Semantic/Data/edm-20240926/tables_sources_json/s21-s-met.json and /content/drive/MyDrive/Prompt_Semantic/Data/edm-20240926/models_triples_json/s21-s-met-model.json\n",
      "Loading data from /content/drive/MyDrive/Prompt_Semantic/Data/edm-20240926/tables_sources_json/s26-s-the-huntington.json and /content/drive/MyDrive/Prompt_Semantic/Data/edm-20240926/models_triples_json/s26-s-the-huntington-model.json\n",
      "Loading data from /content/drive/MyDrive/Prompt_Semantic/Data/edm-20240926/tables_sources_json/s22-s-moca.json and /content/drive/MyDrive/Prompt_Semantic/Data/edm-20240926/models_triples_json/s22-s-moca-model.json\n",
      "Loading data from [14, 15, 16, 17, 18, 19, 20, 21, 22, 23, 24, 25, 26, 27] files\n",
      "Loading data from /content/drive/MyDrive/Prompt_Semantic/Data/edm-20240926/tables_sources_json/s03-ima-artists.json and /content/drive/MyDrive/Prompt_Semantic/Data/edm-20240926/models_triples_json/s03-ima-artists-model.json\n",
      "Loading data from /content/drive/MyDrive/Prompt_Semantic/Data/edm-20240926/tables_sources_json/s18-s-indianapolis-artists.json and /content/drive/MyDrive/Prompt_Semantic/Data/edm-20240926/models_triples_json/s18-s-indianapolis-artists-model.json\n",
      "Loading data from /content/drive/MyDrive/Prompt_Semantic/Data/edm-20240926/tables_sources_json/s17-s-houston-museum-of-fine-arts.json and /content/drive/MyDrive/Prompt_Semantic/Data/edm-20240926/models_triples_json/s17-s-houston-museum-of-fine-arts-model.json\n",
      "Loading data from /content/drive/MyDrive/Prompt_Semantic/Data/edm-20240926/tables_sources_json/s10-s-18-artworks.json and /content/drive/MyDrive/Prompt_Semantic/Data/edm-20240926/models_triples_json/s10-s-18-artworks-model.json\n",
      "Loading data from /content/drive/MyDrive/Prompt_Semantic/Data/edm-20240926/tables_sources_json/s27-wildlife-art.json and /content/drive/MyDrive/Prompt_Semantic/Data/edm-20240926/models_triples_json/s27-wildlife-art-model.json\n",
      "Loading data from /content/drive/MyDrive/Prompt_Semantic/Data/edm-20240926/tables_sources_json/s04-ima-artworks.json and /content/drive/MyDrive/Prompt_Semantic/Data/edm-20240926/models_triples_json/s04-ima-artworks-model.json\n",
      "Loading data from /content/drive/MyDrive/Prompt_Semantic/Data/edm-20240926/tables_sources_json/s24-s-oakland-museum-paintings.json and /content/drive/MyDrive/Prompt_Semantic/Data/edm-20240926/models_triples_json/s24-s-oakland-museum-paintings-model.json\n",
      "Loading data from /content/drive/MyDrive/Prompt_Semantic/Data/edm-20240926/tables_sources_json/s19-s-indianapolis-artworks.json and /content/drive/MyDrive/Prompt_Semantic/Data/edm-20240926/models_triples_json/s19-s-indianapolis-artworks-model.json\n",
      "Loading data from /content/drive/MyDrive/Prompt_Semantic/Data/edm-20240926/tables_sources_json/s20-s-lacma.json and /content/drive/MyDrive/Prompt_Semantic/Data/edm-20240926/models_triples_json/s20-s-lacma-model.json\n",
      "Loading data from /content/drive/MyDrive/Prompt_Semantic/Data/edm-20240926/tables_sources_json/s11-s-19-artists.json and /content/drive/MyDrive/Prompt_Semantic/Data/edm-20240926/models_triples_json/s11-s-19-artists-model.json\n",
      "Loading data from /content/drive/MyDrive/Prompt_Semantic/Data/edm-20240926/tables_sources_json/s28-gilcrease.json and /content/drive/MyDrive/Prompt_Semantic/Data/edm-20240926/models_triples_json/s28-gilcrease-model.json\n",
      "Loading data from /content/drive/MyDrive/Prompt_Semantic/Data/edm-20240926/tables_sources_json/s15-s-detroit-institute-of-art.json and /content/drive/MyDrive/Prompt_Semantic/Data/edm-20240926/models_triples_json/s15-s-detroit-institute-of-art-model.json\n",
      "Loading data from /content/drive/MyDrive/Prompt_Semantic/Data/edm-20240926/tables_sources_json/s23-s-norton-simon.json and /content/drive/MyDrive/Prompt_Semantic/Data/edm-20240926/models_triples_json/s23-s-norton-simon-model.json\n",
      "Loading data from /content/drive/MyDrive/Prompt_Semantic/Data/edm-20240926/tables_sources_json/s13-s-art-institute-of-chicago.json and /content/drive/MyDrive/Prompt_Semantic/Data/edm-20240926/models_triples_json/s13-s-art-institute-of-chicago-model.json\n"
     ]
    }
   ],
   "source": [
    "from data_loader import generate_data\n",
    "from instruct_prompt_generator import load_ontologies\n",
    "from openai import OpenAI\n",
    "\n",
    "train_path = \"data/museum-edm/tables_sources_json/\"\n",
    "models_path = \"data/museum-edm/models_triples_json/\"\n",
    "ontology_path = \"data/museum-edm/ontology/Ontologies.json\"\n",
    "\n",
    "model = OpenAI(api_key=\"\", base_url=\"https://api.deepseek.com\")\n",
    "train_data, test_data = generate_data(train_path, models_path,  28, 3, 0.5, 2023, xml= False)\n",
    "ontology = load_ontologies(ontology_path)\n",
    "prompt_path = \"Prompts/prompt123.txt\"\n",
    "chain_path1 = \"Prompts/chain1.txt\"\n",
    "chain_path2 = \"Prompts/chain2.txt\""
   ]
  },
  {
   "cell_type": "code",
   "execution_count": null,
   "metadata": {
    "id": "9R9BLrLqS8Vu"
   },
   "outputs": [],
   "source": []
  },
  {
   "cell_type": "code",
   "execution_count": null,
   "metadata": {
    "colab": {
     "base_uri": "https://localhost:8080/"
    },
    "id": "5mngiynW4Y_A",
    "outputId": "f3a728d3-5cb0-42ce-fc43-6dd72c0ecca9"
   },
   "outputs": [
    {
     "name": "stdout",
     "output_type": "stream",
     "text": [
      "This is epoch 0\n",
      "Enter value for variable: $TABLE\n",
      "Enter value for variable: $ONTOLOGY\n",
      "Enter value for variable: $STEP1\n",
      "Enter value for variable: $STEP2\n",
      "[['']]\n",
      "Wrong: {('',)}\n",
      "Precision: 1\n",
      "Recall: 1\n",
      "[['aac-ont:CulturalHeritageObject1', 'dcterms:creator', 'aac-ont:Person1']]\n",
      "Wrong: set()\n",
      "Precision: 1.0\n",
      "Recall: 1.0\n",
      "[['edm:EuropeanaAggregation1', 'edm:aggregatedCHO', 'aac-ont:CulturalHeritageObject1'], ['edm:EuropeanaAggregation1', 'edm:hasView', 'edm:WebResource1'], ['aac-ont:CulturalHeritageObject1', 'dcterms:creator', 'aac-ont:Person1'], ['aac-ont:CulturalHeritageObject1', 'foaf:page', 'foaf:Document1']]\n",
      "Wrong: set()\n",
      "Precision: 1.0\n",
      "Recall: 1.0\n",
      "[['edm:EuropeanaAggregation1', 'edm:aggregatedCHO', 'aac-ont:CulturalHeritageObject1'], ['edm:EuropeanaAggregation1', 'edm:hasView', 'edm:WebResource1'], ['aac-ont:CulturalHeritageObject1', 'dcterms:creator', 'aac-ont:Person1'], ['aac-ont:CulturalHeritageObject1', 'edm:hasType', 'skos:Concept1'], ['aac-ont:CulturalHeritageObject1', 'edm:hasType', 'skos:Concept2']]\n",
      "Wrong: {('aac-ont:CulturalHeritageObject1', 'edm:hasType', 'skos:Concept1')}\n",
      "Precision: 0.8\n",
      "Recall: 0.8\n",
      "[['edm:EuropeanaAggregation1', 'edm:aggregatedCHO', 'aac-ont:CulturalHeritageObject1'], ['edm:EuropeanaAggregation1', 'edm:hasView', 'edm:WebResource1'], ['aac-ont:CulturalHeritageObject1', 'dcterms:creator', 'aac-ont:Person1'], ['aac-ont:CulturalHeritageObject1', 'edm:hasType', 'skos:Concept1'], ['aac-ont:Person1', 'ElementsGr2:placeOfBirth', 'aac-ont:Place1'], ['aac-ont:CulturalHeritageObject1', 'dcterms:subject', 'skos:Concept2']]\n",
      "Wrong: {('aac-ont:CulturalHeritageObject1', 'edm:hasType', 'skos:Concept1'), ('aac-ont:Person1', 'ElementsGr2:placeOfBirth', 'aac-ont:Place1'), ('aac-ont:CulturalHeritageObject1', 'dcterms:subject', 'skos:Concept2'), ('edm:EuropeanaAggregation1', 'edm:aggregatedCHO', 'aac-ont:CulturalHeritageObject1'), ('edm:EuropeanaAggregation1', 'edm:hasView', 'edm:WebResource1')}\n",
      "Precision: 0.16666666666666666\n",
      "Recall: 0.25\n",
      "[['edm:EuropeanaAggregation1', 'edm:aggregatedCHO', 'aac-ont:CulturalHeritageObject1'], ['edm:EuropeanaAggregation1', 'edm:hasView', 'edm:WebResource1'], ['aac-ont:CulturalHeritageObject1', 'dcterms:creator', 'aac-ont:Person1'], ['aac-ont:CulturalHeritageObject1', 'foaf:page', 'foaf:Document1'], ['aac-ont:CulturalHeritageObject1', 'edm:isRelatedTo', 'aac-ont:CulturalHeritageObject2'], ['aac-ont:CulturalHeritageObject1', 'dcterms:subject', 'skos:Concept1'], ['aac-ont:CulturalHeritageObject2', 'foaf:page', 'foaf:Document2']]\n",
      "Wrong: set()\n",
      "Precision: 1.0\n",
      "Recall: 1.0\n",
      "[['edm:EuropeanaAggregation1', 'edm:aggregatedCHO', 'aac-ont:CulturalHeritageObject1'], ['edm:EuropeanaAggregation1', 'edm:hasView', 'edm:WebResource1'], ['aac-ont:CulturalHeritageObject1', 'dcterms:creator', 'aac-ont:Person1'], ['aac-ont:CulturalHeritageObject1', 'edm:hasType', 'skos:Concept1'], ['aac-ont:CulturalHeritageObject1', 'dcterms:subject', 'skos:Concept2']]\n",
      "Wrong: {('aac-ont:CulturalHeritageObject1', 'dcterms:subject', 'skos:Concept2'), ('aac-ont:CulturalHeritageObject1', 'edm:hasType', 'skos:Concept1')}\n",
      "Precision: 0.6\n",
      "Recall: 0.6\n",
      "[['edm:EuropeanaAggregation1', 'edm:aggregatedCHO', 'aac-ont:CulturalHeritageObject1'], ['edm:EuropeanaAggregation1', 'edm:hasView', 'edm:WebResource1'], ['aac-ont:CulturalHeritageObject1', 'dcterms:creator', 'aac-ont:Person1'], ['aac-ont:CulturalHeritageObject1', 'foaf:page', 'foaf:Document1'], ['aac-ont:CulturalHeritageObject1', 'edm:isRelatedTo', 'aac-ont:CulturalHeritageObject2'], ['aac-ont:CulturalHeritageObject1', 'foaf:page', 'foaf:Document2'], ['aac-ont:CulturalHeritageObject1', 'dcterms:subject', 'skos:Concept1']]\n",
      "Wrong: {('aac-ont:CulturalHeritageObject1', 'foaf:page', 'foaf:Document2')}\n",
      "Precision: 0.8571428571428571\n",
      "Recall: 0.8571428571428571\n",
      "[['edm:EuropeanaAggregation1', 'edm:aggregatedCHO', 'aac-ont:CulturalHeritageObject1'], ['edm:EuropeanaAggregation1', 'edm:hasView', 'edm:WebResource1'], ['aac-ont:CulturalHeritageObject1', 'dcterms:creator', 'aac-ont:Person1']]\n",
      "Wrong: set()\n",
      "Precision: 1.0\n",
      "Recall: 1.0\n",
      "[['']]\n",
      "Wrong: {('',)}\n",
      "Precision: 1\n",
      "Recall: 1\n",
      "[['edm:EuropeanaAggregation1', 'edm:aggregatedCHO', 'aac-ont:CulturalHeritageObject1'], ['aac-ont:CulturalHeritageObject1', 'dcterms:creator', 'aac-ont:Person1'], ['aac-ont:CulturalHeritageObject1', 'edm:hasType', 'skos:Concept1']]\n",
      "Wrong: {('edm:EuropeanaAggregation1', 'edm:aggregatedCHO', 'aac-ont:CulturalHeritageObject1')}\n",
      "Precision: 0.6666666666666666\n",
      "Recall: 1.0\n",
      "[['edm:EuropeanaAggregation1', 'edm:aggregatedCHO', 'aac-ont:CulturalHeritageObject1'], ['edm:EuropeanaAggregation1', 'edm:hasView', 'edm:WebResource1'], ['aac-ont:CulturalHeritageObject1', 'dcterms:creator', 'aac-ont:Person1'], ['aac-ont:CulturalHeritageObject1', 'edm:hasType', 'skos:Concept1']]\n",
      "Wrong: set()\n",
      "Precision: 1.0\n",
      "Recall: 1.0\n",
      "[['edm:EuropeanaAggregation1', 'edm:aggregatedCHO', 'aac-ont:CulturalHeritageObject1'], ['edm:EuropeanaAggregation1', 'edm:hasView', 'edm:WebResource1'], ['aac-ont:CulturalHeritageObject1', 'dcterms:creator', 'aac-ont:Person1']]\n",
      "Wrong: set()\n",
      "Precision: 1.0\n",
      "Recall: 1.0\n",
      "[['edm:EuropeanaAggregation1', 'edm:aggregatedCHO', 'aac-ont:CulturalHeritageObject1'], ['edm:EuropeanaAggregation1', 'edm:hasView', 'edm:WebResource1'], ['aac-ont:CulturalHeritageObject1', 'dcterms:creator', 'aac-ont:Person1'], ['aac-ont:CulturalHeritageObject1', 'edm:hasType', 'skos:Concept1']]\n",
      "Wrong: {('aac-ont:CulturalHeritageObject1', 'edm:hasType', 'skos:Concept1')}\n",
      "Precision: 0.75\n",
      "Recall: 1.0\n",
      "Mean Precision: 0.8457482993197278\n",
      "Mean Recall: 0.8933673469387754\n",
      "=========================================\n"
     ]
    }
   ],
   "source": [
    "from Prompt_Reason import generate_reason\n",
    "sample_size = 1\n",
    "for i in range(sample_size):\n",
    "  print(f'This is epoch {i}')\n",
    "  generate_reason(train_data, ontology, test_data, prompt_path, chain_path1, chain_path2, model, \"2023edm_fewshot\")\n",
    "  print(\"=========================================\")\n",
    "# generate_reason(train_data, ontology, test_data, prompt_path, chain_path1, chain_path2, model)"
   ]
  },
  {
   "cell_type": "code",
   "execution_count": null,
   "metadata": {
    "id": "D7EPxWsSAOrm"
   },
   "outputs": [],
   "source": [
    "chain1_no_kg = \"Prompts/chain1_no_kg.txt\"\n",
    "chain2_no_kg = \"Prompts/chain2_no_kg.txt\""
   ]
  },
  {
   "cell_type": "code",
   "execution_count": null,
   "metadata": {
    "id": "wlhF2yP7mRgr"
   },
   "outputs": [],
   "source": [
    "prompt_path_without_knowledge = \"Prompts/prompt_without_knowledge.txt\""
   ]
  },
  {
   "cell_type": "code",
   "execution_count": null,
   "metadata": {
    "colab": {
     "base_uri": "https://localhost:8080/"
    },
    "id": "PJxyz7uailGp",
    "outputId": "d327a8c7-71ba-4e16-a670-b29ead7bf8bd"
   },
   "outputs": [
    {
     "name": "stdout",
     "output_type": "stream",
     "text": [
      "This is epoch 0\n",
      "Enter value for variable: $TABLE\n",
      "Enter value for variable: $ONTOLOGY\n",
      "Enter value for variable: $STEP1\n",
      "Enter value for variable: $STEP2\n",
      "[['']]\n",
      "Wrong: {('',)}\n",
      "Precision: 1\n",
      "Recall: 1\n",
      "[['aac-ont:CulturalHeritageObject1', 'dcterms:creator', 'aac-ont:Person1']]\n",
      "Wrong: set()\n",
      "Precision: 1.0\n",
      "Recall: 1.0\n",
      "[['edm:EuropeanaAggregation1', 'edm:aggregatedCHO', 'aac-ont:CulturalHeritageObject1'], ['edm:EuropeanaAggregation1', 'edm:hasView', 'edm:WebResource1'], ['aac-ont:CulturalHeritageObject1', 'dcterms:creator', 'aac-ont:Person1'], ['aac-ont:CulturalHeritageObject1', 'foaf:page', 'foaf:Document1']]\n",
      "Wrong: set()\n",
      "Precision: 1.0\n",
      "Recall: 1.0\n",
      "[['edm:EuropeanaAggregation1', 'edm:aggregatedCHO', 'aac-ont:CulturalHeritageObject1'], ['edm:EuropeanaAggregation1', 'edm:hasView', 'edm:WebResource1'], ['aac-ont:CulturalHeritageObject1', 'dcterms:creator', 'aac-ont:Person1'], ['aac-ont:CulturalHeritageObject1', 'dcterms:subject', 'skos:Concept1'], ['aac-ont:CulturalHeritageObject1', 'edm:hasType', 'skos:Concept2']]\n",
      "Wrong: set()\n",
      "Precision: 1.0\n",
      "Recall: 1.0\n",
      "[['edm:EuropeanaAggregation1', 'edm:aggregatedCHO', 'aac-ont:CulturalHeritageObject1'], ['aac-ont:CulturalHeritageObject1', 'dcterms:creator', 'aac-ont:Person1'], ['aac-ont:CulturalHeritageObject1', 'edm:hasType', 'skos:Concept1'], ['aac-ont:Person1', 'ElementsGr2:placeOfBirth', 'aac-ont:Place1'], ['aac-ont:CulturalHeritageObject1', 'edm:hasType', 'skos:Concept2']]\n",
      "Wrong: {('edm:EuropeanaAggregation1', 'edm:aggregatedCHO', 'aac-ont:CulturalHeritageObject1'), ('aac-ont:CulturalHeritageObject1', 'edm:hasType', 'skos:Concept1'), ('aac-ont:Person1', 'ElementsGr2:placeOfBirth', 'aac-ont:Place1')}\n",
      "Precision: 0.4\n",
      "Recall: 0.5\n",
      "[['edm:EuropeanaAggregation1', 'edm:aggregatedCHO', 'aac-ont:CulturalHeritageObject1'], ['edm:EuropeanaAggregation1', 'edm:hasView', 'edm:WebResource1'], ['aac-ont:CulturalHeritageObject1', 'dcterms:creator', 'aac-ont:Person1'], ['aac-ont:CulturalHeritageObject1', 'foaf:page', 'foaf:Document1'], ['aac-ont:CulturalHeritageObject1', 'edm:isRelatedTo', 'aac-ont:CulturalHeritageObject2'], ['aac-ont:CulturalHeritageObject1', 'dcterms:subject', 'skos:Concept1'], ['aac-ont:CulturalHeritageObject2', 'foaf:page', 'foaf:Document2']]\n",
      "Wrong: set()\n",
      "Precision: 1.0\n",
      "Recall: 1.0\n",
      "[['edm:EuropeanaAggregation1', 'edm:aggregatedCHO', 'aac-ont:CulturalHeritageObject1'], ['edm:EuropeanaAggregation1', 'edm:hasView', 'edm:WebResource1'], ['aac-ont:CulturalHeritageObject1', 'dcterms:creator', 'aac-ont:Person1'], ['aac-ont:CulturalHeritageObject1', 'edm:hasType', 'skos:Concept1'], ['aac-ont:CulturalHeritageObject1', 'dcterms:subject', 'skos:Concept2']]\n",
      "Wrong: {('aac-ont:CulturalHeritageObject1', 'dcterms:subject', 'skos:Concept2'), ('aac-ont:CulturalHeritageObject1', 'edm:hasType', 'skos:Concept1')}\n",
      "Precision: 0.6\n",
      "Recall: 0.6\n",
      "[['edm:EuropeanaAggregation1', 'edm:aggregatedCHO', 'aac-ont:CulturalHeritageObject1'], ['edm:EuropeanaAggregation1', 'edm:hasView', 'edm:WebResource1'], ['aac-ont:CulturalHeritageObject1', 'dcterms:creator', 'aac-ont:Person1'], ['aac-ont:CulturalHeritageObject1', 'foaf:page', 'foaf:Document1'], ['aac-ont:CulturalHeritageObject1', 'edm:isRelatedTo', 'aac-ont:CulturalHeritageObject2'], ['aac-ont:CulturalHeritageObject1', 'foaf:page', 'foaf:Document2'], ['aac-ont:CulturalHeritageObject1', 'dcterms:subject', 'skos:Concept1']]\n",
      "Wrong: {('aac-ont:CulturalHeritageObject1', 'foaf:page', 'foaf:Document2')}\n",
      "Precision: 0.8571428571428571\n",
      "Recall: 0.8571428571428571\n",
      "[['edm:EuropeanaAggregation1', 'edm:aggregatedCHO', 'aac-ont:CulturalHeritageObject1'], ['edm:EuropeanaAggregation1', 'edm:hasView', 'edm:WebResource1'], ['aac-ont:CulturalHeritageObject1', 'dcterms:creator', 'aac-ont:Person1']]\n",
      "Wrong: set()\n",
      "Precision: 1.0\n",
      "Recall: 1.0\n",
      "[['']]\n",
      "Wrong: {('',)}\n",
      "Precision: 1\n",
      "Recall: 1\n",
      "[['edm:EuropeanaAggregation1', 'edm:aggregatedCHO', 'aac-ont:CulturalHeritageObject1'], ['aac-ont:CulturalHeritageObject1', 'dcterms:creator', 'aac-ont:Person1'], ['aac-ont:CulturalHeritageObject1', 'edm:hasType', 'skos:Concept1']]\n",
      "Wrong: {('edm:EuropeanaAggregation1', 'edm:aggregatedCHO', 'aac-ont:CulturalHeritageObject1')}\n",
      "Precision: 0.6666666666666666\n",
      "Recall: 1.0\n",
      "[['edm:EuropeanaAggregation1', 'edm:aggregatedCHO', 'aac-ont:CulturalHeritageObject1'], ['edm:EuropeanaAggregation1', 'edm:hasView', 'edm:WebResource1'], ['aac-ont:CulturalHeritageObject1', 'dcterms:creator', 'aac-ont:Person1'], ['aac-ont:CulturalHeritageObject1', 'edm:hasType', 'skos:Concept1']]\n",
      "Wrong: set()\n",
      "Precision: 1.0\n",
      "Recall: 1.0\n",
      "[['edm:EuropeanaAggregation1', 'edm:aggregatedCHO', 'aac-ont:CulturalHeritageObject1'], ['edm:EuropeanaAggregation1', 'edm:hasView', 'edm:WebResource1'], ['aac-ont:CulturalHeritageObject1', 'dcterms:creator', 'aac-ont:Person1']]\n",
      "Wrong: set()\n",
      "Precision: 1.0\n",
      "Recall: 1.0\n",
      "[['edm:EuropeanaAggregation1', 'edm:aggregatedCHO', 'aac-ont:CulturalHeritageObject1'], ['edm:EuropeanaAggregation1', 'edm:hasView', 'edm:WebResource1'], ['aac-ont:CulturalHeritageObject1', 'dcterms:creator', 'aac-ont:Person1'], ['aac-ont:CulturalHeritageObject1', 'edm:hasType', 'skos:Concept1']]\n",
      "Wrong: {('aac-ont:CulturalHeritageObject1', 'edm:hasType', 'skos:Concept1')}\n",
      "Precision: 0.75\n",
      "Recall: 1.0\n",
      "Mean Precision: 0.8767006802721088\n",
      "Mean Recall: 0.9255102040816325\n",
      "=========================================\n"
     ]
    }
   ],
   "source": [
    "from Prompt_Reason import generate_reason\n",
    "sample_size = 1\n",
    "for i in range(sample_size):\n",
    "  print(f'This is epoch {i}')\n",
    "  generate_reason(train_data, ontology, test_data, prompt_path_without_knowledge, chain1_no_kg, chain2_no_kg, model,\"no_knowledge_edm\")\n",
    "  print(\"=========================================\")"
   ]
  },
  {
   "cell_type": "code",
   "execution_count": null,
   "metadata": {
    "id": "ntkjxLXG_2HP"
   },
   "outputs": [],
   "source": [
    "van_prompt = \"Prompts/vanila_prompt.txt\""
   ]
  },
  {
   "cell_type": "code",
   "execution_count": null,
   "metadata": {
    "colab": {
     "base_uri": "https://localhost:8080/"
    },
    "id": "GSbQO7a1BShv",
    "outputId": "ec1360ad-0875-4803-bc8a-015a52434fc7"
   },
   "outputs": [
    {
     "name": "stdout",
     "output_type": "stream",
     "text": [
      "This is epoch 0\n",
      "Enter value for variable: $TABLE\n",
      "Enter value for variable: $ONTOLOGY\n",
      "Enter value for variable: $STEP1\n",
      "Enter value for variable: $STEP2\n",
      "[['aac-ont:CulturalHeritageObject1', 'dcterms:creator', 'aac-ont:Person1']]\n",
      "Wrong: {('aac-ont:CulturalHeritageObject1', 'dcterms:creator', 'aac-ont:Person1')}\n",
      "Precision: 0.0\n",
      "Recall: 0\n",
      "[['edm:EuropeanaAggregation1', 'edm:aggregatedCHO', 'aac-ont:CulturalHeritageObject1'], ['aac-ont:CulturalHeritageObject1', 'dcterms:creator', 'aac-ont:Person1']]\n",
      "Wrong: {('edm:EuropeanaAggregation1', 'edm:aggregatedCHO', 'aac-ont:CulturalHeritageObject1')}\n",
      "Precision: 0.5\n",
      "Recall: 1.0\n",
      "[['edm:EuropeanaAggregation1', 'edm:aggregatedCHO', 'aac-ont:CulturalHeritageObject1'], ['edm:EuropeanaAggregation1', 'edm:hasView', 'edm:WebResource1'], ['aac-ont:CulturalHeritageObject1', 'dcterms:creator', 'aac-ont:Person1'], ['aac-ont:CulturalHeritageObject1', 'foaf:page', 'foaf:Document1']]\n",
      "Wrong: set()\n",
      "Precision: 1.0\n",
      "Recall: 1.0\n",
      "[['edm:EuropeanaAggregation1', 'edm:aggregatedCHO', 'aac-ont:CulturalHeritageObject1'], ['edm:EuropeanaAggregation1', 'edm:hasView', 'edm:WebResource1'], ['aac-ont:CulturalHeritageObject1', 'dcterms:creator', 'aac-ont:Person1'], ['aac-ont:CulturalHeritageObject1', 'edm:hasType', 'skos:Concept1'], ['aac-ont:CulturalHeritageObject1', 'edm:hasType', 'skos:Concept2']]\n",
      "Wrong: {('aac-ont:CulturalHeritageObject1', 'edm:hasType', 'skos:Concept1')}\n",
      "Precision: 0.8\n",
      "Recall: 0.8\n",
      "[['edm:EuropeanaAggregation1', 'edm:aggregatedCHO', 'aac-ont:CulturalHeritageObject1'], ['aac-ont:CulturalHeritageObject1', 'dcterms:creator', 'aac-ont:Person1'], ['aac-ont:CulturalHeritageObject1', 'edm:hasType', 'skos:Concept1'], ['aac-ont:Person1', 'ElementsGr2:placeOfBirth', 'aac-ont:Place1']]\n",
      "Wrong: {('edm:EuropeanaAggregation1', 'edm:aggregatedCHO', 'aac-ont:CulturalHeritageObject1'), ('aac-ont:CulturalHeritageObject1', 'edm:hasType', 'skos:Concept1'), ('aac-ont:Person1', 'ElementsGr2:placeOfBirth', 'aac-ont:Place1')}\n",
      "Precision: 0.25\n",
      "Recall: 0.25\n",
      "[['edm:EuropeanaAggregation1', 'edm:aggregatedCHO', 'aac-ont:CulturalHeritageObject1'], ['edm:EuropeanaAggregation1', 'edm:hasView', 'edm:WebResource1'], ['aac-ont:CulturalHeritageObject1', 'dcterms:creator', 'aac-ont:Person1'], ['aac-ont:CulturalHeritageObject1', 'foaf:page', 'foaf:Document1'], ['aac-ont:CulturalHeritageObject1', 'edm:isRelatedTo', 'aac-ont:CulturalHeritageObject2'], ['aac-ont:CulturalHeritageObject1', 'dcterms:subject', 'skos:Concept1'], ['aac-ont:CulturalHeritageObject2', 'foaf:page', 'foaf:Document2']]\n",
      "Wrong: set()\n",
      "Precision: 1.0\n",
      "Recall: 1.0\n",
      "[['edm:EuropeanaAggregation1', 'edm:aggregatedCHO', 'aac-ont:CulturalHeritageObject1'], ['edm:EuropeanaAggregation1', 'edm:hasView', 'edm:WebResource1'], ['aac-ont:CulturalHeritageObject1', 'dcterms:creator', 'aac-ont:Person1'], ['aac-ont:CulturalHeritageObject1', 'edm:hasType', 'skos:Concept1'], ['aac-ont:CulturalHeritageObject1', 'dcterms:subject', 'skos:Concept2']]\n",
      "Wrong: {('aac-ont:CulturalHeritageObject1', 'dcterms:subject', 'skos:Concept2'), ('aac-ont:CulturalHeritageObject1', 'edm:hasType', 'skos:Concept1')}\n",
      "Precision: 0.6\n",
      "Recall: 0.6\n",
      "[['edm:EuropeanaAggregation1', 'edm:aggregatedCHO', 'aac-ont:CulturalHeritageObject1'], ['edm:EuropeanaAggregation1', 'edm:hasView', 'edm:WebResource1'], ['aac-ont:CulturalHeritageObject1', 'dcterms:creator', 'aac-ont:Person1'], ['aac-ont:CulturalHeritageObject1', 'foaf:page', 'foaf:Document1'], ['aac-ont:CulturalHeritageObject1', 'edm:isRelatedTo', 'aac-ont:CulturalHeritageObject2'], ['aac-ont:CulturalHeritageObject1', 'dcterms:subject', 'skos:Concept1'], ['aac-ont:CulturalHeritageObject2', 'foaf:page', 'foaf:Document2']]\n",
      "Wrong: set()\n",
      "Precision: 1.0\n",
      "Recall: 1.0\n",
      "[['edm:EuropeanaAggregation1', 'edm:aggregatedCHO', 'aac-ont:CulturalHeritageObject1'], ['edm:EuropeanaAggregation1', 'edm:hasView', 'edm:WebResource1'], ['aac-ont:CulturalHeritageObject1', 'dcterms:creator', 'aac-ont:Person1']]\n",
      "Wrong: set()\n",
      "Precision: 1.0\n",
      "Recall: 1.0\n",
      "[['aac-ont:Person1', 'ElementsGr2:placeOfBirth', 'aac-ont:Place1'], ['aac-ont:Person1', 'ElementsGr2:placeOfDeath', 'aac-ont:Place2']]\n",
      "Wrong: {('aac-ont:Person1', 'ElementsGr2:placeOfBirth', 'aac-ont:Place1'), ('aac-ont:Person1', 'ElementsGr2:placeOfDeath', 'aac-ont:Place2')}\n",
      "Precision: 0.0\n",
      "Recall: 0\n",
      "[['edm:EuropeanaAggregation1', 'edm:aggregatedCHO', 'aac-ont:CulturalHeritageObject1'], ['aac-ont:CulturalHeritageObject1', 'dcterms:creator', 'aac-ont:Person1'], ['aac-ont:CulturalHeritageObject1', 'edm:hasType', 'skos:Concept1']]\n",
      "Wrong: {('edm:EuropeanaAggregation1', 'edm:aggregatedCHO', 'aac-ont:CulturalHeritageObject1')}\n",
      "Precision: 0.6666666666666666\n",
      "Recall: 1.0\n",
      "[['edm:EuropeanaAggregation1', 'edm:aggregatedCHO', 'aac-ont:CulturalHeritageObject1'], ['edm:EuropeanaAggregation1', 'edm:hasView', 'edm:WebResource1'], ['aac-ont:CulturalHeritageObject1', 'dcterms:creator', 'aac-ont:Person1'], ['aac-ont:CulturalHeritageObject1', 'edm:hasType', 'skos:Concept1']]\n",
      "Wrong: set()\n",
      "Precision: 1.0\n",
      "Recall: 1.0\n",
      "[['edm:EuropeanaAggregation1', 'edm:aggregatedCHO', 'aac-ont:CulturalHeritageObject1'], ['edm:EuropeanaAggregation1', 'edm:hasView', 'edm:WebResource1'], ['aac-ont:CulturalHeritageObject1', 'dcterms:creator', 'aac-ont:Person1']]\n",
      "Wrong: set()\n",
      "Precision: 1.0\n",
      "Recall: 1.0\n",
      "[['edm:EuropeanaAggregation1', 'edm:aggregatedCHO', 'aac-ont:CulturalHeritageObject1'], ['edm:EuropeanaAggregation1', 'edm:hasView', 'edm:WebResource1'], ['aac-ont:CulturalHeritageObject1', 'dcterms:creator', 'aac-ont:Person1'], ['aac-ont:CulturalHeritageObject1', 'edm:hasType', 'skos:Concept1']]\n",
      "Wrong: {('aac-ont:CulturalHeritageObject1', 'edm:hasType', 'skos:Concept1')}\n",
      "Precision: 0.75\n",
      "Recall: 1.0\n",
      "Mean Precision: 0.6833333333333333\n",
      "Mean Recall: 0.7607142857142856\n",
      "=========================================\n"
     ]
    }
   ],
   "source": [
    "from Prompt_Reason import generate_reason\n",
    "sample_size = 1\n",
    "for i in range(sample_size):\n",
    "  print(f'This is epoch {i}')\n",
    "  generate_reason(train_data, ontology, test_data, van_prompt, chain1_no_kg, chain2_no_kg, model, \"vanilla_fewshot_edm\")\n",
    "  print(\"=========================================\")"
   ]
  },
  {
   "cell_type": "code",
   "execution_count": null,
   "metadata": {
    "id": "uvY0YOT8Se5M"
   },
   "outputs": [],
   "source": []
  }
 ],
 "metadata": {
  "colab": {
   "provenance": []
  },
  "kernelspec": {
   "display_name": "Python 3 (ipykernel)",
   "language": "python",
   "name": "python3"
  },
  "language_info": {
   "codemirror_mode": {
    "name": "ipython",
    "version": 3
   },
   "file_extension": ".py",
   "mimetype": "text/x-python",
   "name": "python",
   "nbconvert_exporter": "python",
   "pygments_lexer": "ipython3",
   "version": "3.10.8"
  }
 },
 "nbformat": 4,
 "nbformat_minor": 4
}

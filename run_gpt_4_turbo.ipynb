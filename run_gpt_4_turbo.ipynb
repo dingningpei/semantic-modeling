{
 "cells": [
  {
   "cell_type": "code",
   "execution_count": 1,
   "id": "afadd954-8e66-4f72-b6b5-aa07496653c7",
   "metadata": {},
   "outputs": [
    {
     "name": "stdout",
     "output_type": "stream",
     "text": [
      "Loading data from [0, 1, 2, 3, 4, 5] files\n",
      "Loading data from /root/autodl-tmp/semantic_labeling/data/soccer/tables_sources_json/s01-2014-WC-fresh.json and /root/autodl-tmp/semantic_labeling/data/soccer/models_triples_json/s01-2014-WC-fresh-model.json\n",
      "Loading data from /root/autodl-tmp/semantic_labeling/data/soccer/tables_sources_json/s07-uefa-players.json and /root/autodl-tmp/semantic_labeling/data/soccer/models_triples_json/s07-uefa-players-model.json\n",
      "Loading data from /root/autodl-tmp/semantic_labeling/data/soccer/tables_sources_json/s09-world-cup-2010-squads.json and /root/autodl-tmp/semantic_labeling/data/soccer/models_triples_json/s09-world-cup-2010-squads-model.json\n",
      "Loading data from /root/autodl-tmp/semantic_labeling/data/soccer/tables_sources_json/s02-all-world-cup-players.json and /root/autodl-tmp/semantic_labeling/data/soccer/models_triples_json/s02-all-world-cup-players-model.json\n",
      "Loading data from /root/autodl-tmp/semantic_labeling/data/soccer/tables_sources_json/s11-world-cup-player-ages.json and /root/autodl-tmp/semantic_labeling/data/soccer/models_triples_json/s11-world-cup-player-ages-model.json\n",
      "Loading data from /root/autodl-tmp/semantic_labeling/data/soccer/tables_sources_json/s12-world-cup-squads.json and /root/autodl-tmp/semantic_labeling/data/soccer/models_triples_json/s12-world-cup-squads-model.json\n",
      "Loading data from [6, 7, 8, 9, 10, 11] files\n",
      "Loading data from /root/autodl-tmp/semantic_labeling/data/soccer/tables_sources_json/s06-players.json and /root/autodl-tmp/semantic_labeling/data/soccer/models_triples_json/s06-players-model.json\n",
      "Loading data from /root/autodl-tmp/semantic_labeling/data/soccer/tables_sources_json/s04-fifa-soccer-12-ultimate-team-data-player-database.json and /root/autodl-tmp/semantic_labeling/data/soccer/models_triples_json/s04-fifa-soccer-12-ultimate-team-data-player-database-model.json\n",
      "Loading data from /root/autodl-tmp/semantic_labeling/data/soccer/tables_sources_json/s05-mls-players-2015.json and /root/autodl-tmp/semantic_labeling/data/soccer/models_triples_json/s05-mls-players-2015-model.json\n",
      "Loading data from /root/autodl-tmp/semantic_labeling/data/soccer/tables_sources_json/s10-world-cup-2014-squads.json and /root/autodl-tmp/semantic_labeling/data/soccer/models_triples_json/s10-world-cup-2014-squads-model.json\n",
      "Loading data from /root/autodl-tmp/semantic_labeling/data/soccer/tables_sources_json/s03-bundesliga-2015-2016-rosters.json and /root/autodl-tmp/semantic_labeling/data/soccer/models_triples_json/s03-bundesliga-2015-2016-rosters-model.json\n",
      "Loading data from /root/autodl-tmp/semantic_labeling/data/soccer/tables_sources_json/s08-WM-2014-Alle-Spieler-players-fifa.json and /root/autodl-tmp/semantic_labeling/data/soccer/models_triples_json/s08-WM-2014-Alle-Spieler-players-fifa-model.json\n",
      "This is epoch 0\n",
      "Enter value for variable: $TABLE\n",
      "Enter value for variable: $ONTOLOGY\n",
      "Enter value for variable: $STEP1\n",
      "Enter value for variable: $STEP2\n",
      "Wrong: {('schema:Player1', 'schema:inLeague', 'schema:League1')}\n",
      "Precision: 0.0\n",
      "Recall: 0.0\n",
      "Wrong: {('',)}\n",
      "Precision: 1\n",
      "Recall: 1\n",
      "Wrong: {('uld thus have the single relationship needed to link the player to his clu',)}\n",
      "Precision: 0.0\n",
      "Recall: 0.0\n",
      "Wrong: set()\n",
      "Precision: 1.0\n",
      "Recall: 1.0\n",
      "Wrong: set()\n",
      "Precision: 1.0\n",
      "Recall: 1.0\n",
      "Wrong: {('schema:Player1', 'schema:inClub', 'schema:SportsClub1],\\n [schema:Player1', 'schema:inNationalTeam', 'schema:SportsTeam1],\\n [schema:SportsClub1', 'schema:inLeague', 'schema:League1')}\n",
      "Precision: 0.0\n",
      "Recall: 0.0\n",
      "Mean Precision: 0.5\n",
      "Mean Recall: 0.5\n",
      "=========================================\n"
     ]
    }
   ],
   "source": [
    "from data_loader import generate_data\n",
    "from instruct_prompt_generator import load_ontologies\n",
    "from openai import OpenAI\n",
    "\n",
    "train_path = \"data/soccer/tables_sources_json/\"\n",
    "models_path = \"data/soccer/models_triples_json/\"\n",
    "ontology_path = \"data/soccer/ontology/Ontologies.json\"\n",
    "\n",
    "train_data, test_data = generate_data(train_path, models_path,  12, 3, 0.5, 2024)\n",
    "ontology = load_ontologies(ontology_path)\n",
    "prompt_path = \"Prompts/prompt123.txt\"\n",
    "chain_path1 = \"Prompts/chain1.txt\"\n",
    "chain_path2 = \"Prompts/chain2.txt\"\n",
    "\n",
    "from Prompt_Reason_gpt_4_turbo import generate_reason\n",
    "sample_size = 1\n",
    "for i in range(sample_size):\n",
    "  model = OpenAI(\n",
    "      api_key=\"\",\n",
    "      base_url=\"https://api.claudeshop.top/v1\"\n",
    "  )\n",
    "  print(f'This is epoch {i}')\n",
    "  generate_reason(train_data, ontology, test_data, prompt_path, chain_path1, chain_path2, model)\n",
    "  print(\"=========================================\")"
   ]
  }
 ],
 "metadata": {
  "kernelspec": {
   "display_name": "prompt-sm",
   "language": "python",
   "name": "prompt-sm"
  },
  "language_info": {
   "codemirror_mode": {
    "name": "ipython",
    "version": 3
   },
   "file_extension": ".py",
   "mimetype": "text/x-python",
   "name": "python",
   "nbconvert_exporter": "python",
   "pygments_lexer": "ipython3",
   "version": "3.10.14"
  }
 },
 "nbformat": 4,
 "nbformat_minor": 5
}
